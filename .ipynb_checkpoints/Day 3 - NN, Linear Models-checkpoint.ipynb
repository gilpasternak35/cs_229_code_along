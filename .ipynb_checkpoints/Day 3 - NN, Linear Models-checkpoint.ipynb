{
 "cells": [
  {
   "cell_type": "code",
   "execution_count": 1,
   "metadata": {},
   "outputs": [],
   "source": [
    "import torch"
   ]
  },
  {
   "cell_type": "code",
   "execution_count": 2,
   "metadata": {},
   "outputs": [],
   "source": [
    "# Bias == default when all featues take on value 0, basically offset/\n",
    "# Default prediction"
   ]
  },
  {
   "cell_type": "code",
   "execution_count": null,
   "metadata": {},
   "outputs": [],
   "source": [
    "# Vectors leads to order of magnitude level improvement in efficiency"
   ]
  },
  {
   "cell_type": "markdown",
   "metadata": {},
   "source": [
    "## Generating Synthetic Data"
   ]
  },
  {
   "cell_type": "code",
   "execution_count": 6,
   "metadata": {},
   "outputs": [],
   "source": [
    "def generate_data(w: torch.Tensor, b: torch.Tensor, num_examples: int):\n",
    "    normal_data = torch.normal(0,1, (num_examples, len(w))) # Generates data of a certain shape, either with a different mean and stddev for each element or a shared one for all elems\n",
    "    return normal_data"
   ]
  },
  {
   "cell_type": "code",
   "execution_count": 9,
   "metadata": {},
   "outputs": [
    {
     "data": {
      "text/plain": [
       "tensor([[-0.8263, -0.3378, -0.7590, -1.3058, -0.0880],\n",
       "        [ 0.8383, -1.7387, -0.6003,  0.3287,  0.9068],\n",
       "        [ 1.5445,  0.6526,  0.2522, -0.4596,  0.7441],\n",
       "        [ 0.6042,  0.8429,  1.4547,  0.6519,  1.7894],\n",
       "        [ 0.2583, -1.5769,  0.5673, -0.8607, -0.3156],\n",
       "        [-1.2678,  0.0126, -0.3155,  0.9588, -1.6057],\n",
       "        [ 0.2643,  0.9876,  0.3120, -0.3836,  1.3716],\n",
       "        [-0.5624, -0.1780, -0.3913,  1.0896,  0.0967],\n",
       "        [ 1.6429,  1.4594,  0.5817,  0.0041, -0.1786],\n",
       "        [ 0.0968, -0.5051, -2.5518, -1.1594,  2.5856],\n",
       "        [ 0.2620, -0.2029,  2.0110,  1.2230, -2.0159],\n",
       "        [ 0.3467, -1.5809, -0.0676,  0.7500,  0.8691],\n",
       "        [ 1.3077,  0.4531,  0.7718,  0.5086,  0.6707],\n",
       "        [-0.3690,  0.0495,  0.5064, -0.4081, -0.9435],\n",
       "        [ 0.0292, -0.2160, -0.1685, -1.4968,  0.2747]])"
      ]
     },
     "execution_count": 9,
     "metadata": {},
     "output_type": "execute_result"
    }
   ],
   "source": [
    "generate_data(torch.rand(5,3), torch.rand(1,3), 15) # Generate a bunch of Gaussian examples with mean 0 and stddev 1\n",
    "# This could be extremely useful as we could specify a different mean and stddev for each feature"
   ]
  },
  {
   "cell_type": "code",
   "execution_count": 33,
   "metadata": {},
   "outputs": [],
   "source": [
    "# Different mean and stddev for each feature:\n",
    "def generate_data_with_custom_dist(mean: torch.Tensor, stddev: torch.Tensor, w: torch.Tensor, b: torch.Tensor, num_examples: int):\n",
    "    normal_data = [torch.normal(mean,stddev) for i in range(num_examples)] # Generates data of a certain shape, either with a different mean and stddev for each element or a shared one for all elems\n",
    "    return normal_data"
   ]
  },
  {
   "cell_type": "code",
   "execution_count": 34,
   "metadata": {},
   "outputs": [
    {
     "data": {
      "text/plain": [
       "[tensor([ 2.0262,  5.6668, -0.0356,  5.6359,  2.0021]),\n",
       " tensor([ 1.3844,  1.6745, -0.0680,  5.7642, 12.3371]),\n",
       " tensor([ 0.8632, -0.1684,  2.3418,  2.9237,  9.4773]),\n",
       " tensor([ 0.3060,  0.8906,  1.3358,  0.6612, -6.3763]),\n",
       " tensor([0.7846, 3.5069, 2.3805, 7.4205, 5.5446]),\n",
       " tensor([ 1.8134,  1.5516,  5.5529,  1.3864, -1.7785]),\n",
       " tensor([0.5565, 0.2367, 2.7897, 6.8607, 8.0864]),\n",
       " tensor([2.8080, 5.6415, 5.4175, 2.0603, 2.9201]),\n",
       " tensor([0.9949, 0.3634, 0.3902, 1.2336, 6.2772]),\n",
       " tensor([ 2.0763,  3.6064,  4.3312,  4.7290, 17.3246]),\n",
       " tensor([1.4953, 0.1996, 1.7931, 6.3762, 6.0653]),\n",
       " tensor([3.1342, 3.6653, 7.9141, 5.7994, 2.7496]),\n",
       " tensor([ 0.1325,  2.0292, -1.5745,  3.4429,  5.6390]),\n",
       " tensor([0.8177, 2.2541, 7.6830, 9.4916, 3.5884]),\n",
       " tensor([2.7237, 2.1966, 6.7975, 2.3307, 3.7033])]"
      ]
     },
     "execution_count": 34,
     "metadata": {},
     "output_type": "execute_result"
    }
   ],
   "source": [
    "# Generate different features with different means and standard deviations\n",
    "generate_data_with_custom_dist(torch.Tensor([1,2,3,4,5]), torch.Tensor([1,2,3,4,5]), torch.rand(5,3), torch.rand(1,3), 15)"
   ]
  },
  {
   "cell_type": "code",
   "execution_count": 103,
   "metadata": {},
   "outputs": [],
   "source": [
    "# generating a dataset with Gaussian noise\n",
    "def generate_dataset(mean: int = 1, \n",
    "                     stddev: int = 2, w: \n",
    "                     torch.Tensor = torch.rand((5,1)),\n",
    "                     b: torch.Tensor = torch.rand(1,1), \n",
    "                     num_examples: int = 50):\n",
    "    print(w.shape)\n",
    "    X = torch.normal(mean, stddev, (num_examples, len(w))) # Generates data of a certain shape, either with a different mean and stddev for each element or a shared one for all elems\n",
    "    y = torch.mm(X,w)\n",
    "    y = y + b\n",
    "    # Adding gaussian noise\n",
    "    y += torch.normal(0, 0.1, (num_examples,len(w[0])))\n",
    "    return X, y # Returning feature set, labels"
   ]
  },
  {
   "cell_type": "code",
   "execution_count": 104,
   "metadata": {},
   "outputs": [
    {
     "name": "stdout",
     "output_type": "stream",
     "text": [
      "torch.Size([5, 1])\n"
     ]
    },
    {
     "data": {
      "text/plain": [
       "tensor([[-0.7741],\n",
       "        [ 6.2064],\n",
       "        [ 9.5621],\n",
       "        [ 3.3655],\n",
       "        [14.0831],\n",
       "        [ 6.0961],\n",
       "        [ 9.0736]])"
      ]
     },
     "execution_count": 104,
     "metadata": {},
     "output_type": "execute_result"
    }
   ],
   "source": [
    "features, labels = generate_dataset(5,7, torch.Tensor([[.1], [.1], [.7], [.05], [.05]]), torch.Tensor([2]), 7)# Labels generating deterministically + some noise with random weights\n",
    "# for a linearly regressive algorithm with some noise - linear relationship\n",
    "labels"
   ]
  },
  {
   "cell_type": "code",
   "execution_count": 105,
   "metadata": {},
   "outputs": [
    {
     "data": {
      "text/plain": [
       "tensor([[14.7194, -2.4425, -6.5926, 10.2956, -1.9313],\n",
       "        [ 4.6789, -2.9116,  5.3034, -1.5714, 10.0874],\n",
       "        [ 6.8084, 10.4848,  8.4068, -7.6185,  8.0880],\n",
       "        [ 2.3162, -0.7306,  0.7154, 14.5020, -1.0340],\n",
       "        [ 9.8748, -1.2867, 15.2288, 10.5760, -1.7192],\n",
       "        [14.4920,  1.8988,  3.8513, -2.4731, -3.7723],\n",
       "        [-1.0157,  2.0223,  9.4840,  1.5953,  8.5487]])"
      ]
     },
     "execution_count": 105,
     "metadata": {},
     "output_type": "execute_result"
    }
   ],
   "source": [
    "# featues\n",
    "features # some randomized linear weighting of these + Gaussian noise yields results. To be more definitive, select weights beforehand"
   ]
  },
  {
   "cell_type": "markdown",
   "metadata": {},
   "source": [
    "The data generated above is Gaussian data generated with a linear relationship"
   ]
  },
  {
   "cell_type": "code",
   "execution_count": 112,
   "metadata": {},
   "outputs": [],
   "source": [
    "features = features[torch.randperm(features.shape[0])] # Using random permutation we shuffle the numbers up to a certain value, hence shuffling the rows / our training examples"
   ]
  },
  {
   "cell_type": "code",
   "execution_count": 114,
   "metadata": {},
   "outputs": [
    {
     "data": {
      "text/plain": [
       "tensor([[ 4.6789, -2.9116,  5.3034, -1.5714, 10.0874],\n",
       "        [ 2.3162, -0.7306,  0.7154, 14.5020, -1.0340],\n",
       "        [-1.0157,  2.0223,  9.4840,  1.5953,  8.5487],\n",
       "        [14.4920,  1.8988,  3.8513, -2.4731, -3.7723],\n",
       "        [14.7194, -2.4425, -6.5926, 10.2956, -1.9313],\n",
       "        [ 6.8084, 10.4848,  8.4068, -7.6185,  8.0880],\n",
       "        [ 9.8748, -1.2867, 15.2288, 10.5760, -1.7192]])"
      ]
     },
     "execution_count": 114,
     "metadata": {},
     "output_type": "execute_result"
    }
   ],
   "source": [
    "features"
   ]
  },
  {
   "cell_type": "code",
   "execution_count": null,
   "metadata": {},
   "outputs": [],
   "source": []
  },
  {
   "cell_type": "code",
   "execution_count": null,
   "metadata": {},
   "outputs": [],
   "source": []
  }
 ],
 "metadata": {
  "kernelspec": {
   "display_name": "Python 3",
   "language": "python",
   "name": "python3"
  },
  "language_info": {
   "codemirror_mode": {
    "name": "ipython",
    "version": 3
   },
   "file_extension": ".py",
   "mimetype": "text/x-python",
   "name": "python",
   "nbconvert_exporter": "python",
   "pygments_lexer": "ipython3",
   "version": "3.8.4rc1"
  }
 },
 "nbformat": 4,
 "nbformat_minor": 4
}
