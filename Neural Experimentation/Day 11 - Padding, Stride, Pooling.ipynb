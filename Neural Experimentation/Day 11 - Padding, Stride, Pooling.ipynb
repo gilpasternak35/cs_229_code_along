{
 "cells": [
  {
   "cell_type": "code",
   "execution_count": 2,
   "metadata": {},
   "outputs": [],
   "source": [
    "import torch\n",
    "import torchvision\n",
    "from torch import nn\n",
    "from torch.utils import data\n",
    "from torchvision import transforms\n",
    "import numpy as np"
   ]
  },
  {
   "cell_type": "markdown",
   "metadata": {},
   "source": [
    "Sometimes we may need deeper networks so that some features have broader receptive fields, can learn features that are functions of a greater portion of the image"
   ]
  },
  {
   "cell_type": "markdown",
   "metadata": {},
   "source": [
    "## Padding and Stride"
   ]
  },
  {
   "cell_type": "code",
   "execution_count": 3,
   "metadata": {},
   "outputs": [],
   "source": [
    "# Function from previous notebook\n",
    "# Converting to function for future use, default num_workers is 4 bc CPU threads\n",
    "def load_fashion_mnist(batch_size: int = 512, num_workers: int = 4):\n",
    "    data_transform = transforms.ToTensor() # Obtaining data to tensor converter\n",
    "    \n",
    "    # Downloading data\n",
    "    mnist_train = torchvision.datasets.FashionMNIST(root = \"../data\", train = True, transform = data_transform, download= True)  # Defining fashion MNIST train from torch datasets\n",
    "    mnist_test = torchvision.datasets.FashionMNIST(root = \"../data\", train = False, transform = data_transform, download = True)\n",
    "    \n",
    "    # Loading data onto an iterator\n",
    "    train_data_loader = data.DataLoader(mnist_train, batch_size, shuffle = True, num_workers = 4)\n",
    "    test_data_loader = data.DataLoader(mnist_test, batch_size, shuffle = True, num_workers = 4)\n",
    "    \n",
    "    # Returning iterator\n",
    "    return train_data_loader, test_data_loader "
   ]
  },
  {
   "cell_type": "code",
   "execution_count": 4,
   "metadata": {},
   "outputs": [
    {
     "name": "stderr",
     "output_type": "stream",
     "text": [
      "/Users/gilpasternak/Library/Python/3.8/lib/python/site-packages/torchvision/datasets/mnist.py:498: UserWarning: The given NumPy array is not writeable, and PyTorch does not support non-writeable tensors. This means you can write to the underlying (supposedly non-writeable) NumPy array using the tensor. You may want to copy the array to protect its data or make it writeable before converting it to a tensor. This type of warning will be suppressed for the rest of this program. (Triggered internally at  ../torch/csrc/utils/tensor_numpy.cpp:180.)\n",
      "  return torch.from_numpy(parsed.astype(m[2], copy=False)).view(*s)\n"
     ]
    }
   ],
   "source": [
    "train_loader, test_loader = load_fashion_mnist() # Checking label shape for prediction"
   ]
  },
  {
   "cell_type": "code",
   "execution_count": 12,
   "metadata": {},
   "outputs": [
    {
     "name": "stdout",
     "output_type": "stream",
     "text": [
      "tensor(1)\n",
      "tensor(9)\n",
      "tensor(3)\n",
      "tensor(3)\n",
      "tensor(2)\n",
      "tensor(2)\n",
      "tensor(6)\n",
      "tensor(5)\n",
      "tensor(8)\n",
      "tensor(7)\n",
      "tensor(3)\n",
      "tensor(6)\n",
      "tensor(4)\n",
      "tensor(7)\n",
      "tensor(1)\n",
      "tensor(4)\n",
      "tensor(1)\n",
      "tensor(4)\n",
      "tensor(0)\n",
      "tensor(5)\n",
      "tensor(4)\n",
      "tensor(3)\n",
      "tensor(9)\n",
      "tensor(1)\n",
      "tensor(5)\n",
      "tensor(8)\n",
      "tensor(3)\n",
      "tensor(9)\n",
      "tensor(1)\n",
      "tensor(1)\n",
      "tensor(3)\n",
      "tensor(4)\n",
      "tensor(7)\n",
      "tensor(8)\n",
      "tensor(5)\n",
      "tensor(0)\n",
      "tensor(1)\n",
      "tensor(4)\n",
      "tensor(9)\n",
      "tensor(2)\n",
      "tensor(1)\n",
      "tensor(6)\n",
      "tensor(8)\n",
      "tensor(5)\n",
      "tensor(4)\n",
      "tensor(7)\n",
      "tensor(4)\n",
      "tensor(9)\n",
      "tensor(7)\n",
      "tensor(9)\n",
      "tensor(4)\n",
      "tensor(5)\n",
      "tensor(1)\n",
      "tensor(1)\n",
      "tensor(0)\n",
      "tensor(5)\n",
      "tensor(6)\n",
      "tensor(2)\n",
      "tensor(0)\n",
      "tensor(5)\n",
      "tensor(4)\n",
      "tensor(8)\n",
      "tensor(4)\n",
      "tensor(7)\n",
      "tensor(9)\n",
      "tensor(6)\n",
      "tensor(6)\n",
      "tensor(3)\n",
      "tensor(9)\n",
      "tensor(0)\n",
      "tensor(9)\n",
      "tensor(3)\n",
      "tensor(4)\n",
      "tensor(6)\n",
      "tensor(4)\n",
      "tensor(3)\n",
      "tensor(2)\n",
      "tensor(9)\n",
      "tensor(5)\n",
      "tensor(0)\n",
      "tensor(0)\n",
      "tensor(0)\n",
      "tensor(0)\n",
      "tensor(2)\n",
      "tensor(4)\n",
      "tensor(6)\n",
      "tensor(1)\n",
      "tensor(5)\n",
      "tensor(6)\n",
      "tensor(8)\n",
      "tensor(7)\n",
      "tensor(9)\n",
      "tensor(5)\n",
      "tensor(2)\n",
      "tensor(8)\n",
      "tensor(2)\n",
      "tensor(8)\n",
      "tensor(0)\n",
      "tensor(0)\n",
      "tensor(2)\n",
      "tensor(6)\n",
      "tensor(4)\n",
      "tensor(8)\n",
      "tensor(6)\n",
      "tensor(5)\n",
      "tensor(1)\n",
      "tensor(1)\n",
      "tensor(6)\n",
      "tensor(7)\n",
      "tensor(2)\n",
      "tensor(7)\n",
      "tensor(3)\n",
      "tensor(0)\n",
      "tensor(1)\n",
      "tensor(1)\n",
      "tensor(1)\n",
      "tensor(8)\n",
      "tensor(7)\n"
     ]
    }
   ],
   "source": [
    "for i,x in train_loader:\n",
    "    print(x[0]) # First label for each batch - label is a single value!"
   ]
  },
  {
   "cell_type": "code",
   "execution_count": null,
   "metadata": {},
   "outputs": [],
   "source": []
  }
 ],
 "metadata": {
  "kernelspec": {
   "display_name": "Python 3",
   "language": "python",
   "name": "python3"
  },
  "language_info": {
   "codemirror_mode": {
    "name": "ipython",
    "version": 3
   },
   "file_extension": ".py",
   "mimetype": "text/x-python",
   "name": "python",
   "nbconvert_exporter": "python",
   "pygments_lexer": "ipython3",
   "version": "3.8.4rc1"
  }
 },
 "nbformat": 4,
 "nbformat_minor": 4
}
