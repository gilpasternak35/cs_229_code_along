{
 "cells": [
  {
   "cell_type": "code",
   "execution_count": 1,
   "metadata": {},
   "outputs": [],
   "source": [
    "import torch"
   ]
  },
  {
   "cell_type": "markdown",
   "metadata": {},
   "source": [
    "Remark: each layer is some transformation on the set of outputs, updated w.r.t to their scaling of the output"
   ]
  },
  {
   "cell_type": "markdown",
   "metadata": {},
   "source": [
    "## Blocks"
   ]
  },
  {
   "cell_type": "markdown",
   "metadata": {},
   "source": [
    "Architectures often have a lot of repetition, but we do not want to reimplement this repetition. The unique fundamental unit of architecute consisting of several unique layer is called a block, and we can scale a NN for depth by composing several blocks within it. In terms of object composition, a NN is an object which contains blocks which in turn contain layer (the units of computation as they contain the multiplicative weights + additive bias)"
   ]
  },
  {
   "cell_type": "markdown",
   "metadata": {},
   "source": [
    "Blocks implement their forward propagating functional transformation, back propagation auto differentiates and adjusts weights"
   ]
  },
  {
   "cell_type": "markdown",
   "metadata": {},
   "source": [
    "PyTorch NN Sequential defines a special kind of Module (fundamental block unit in PyTorch). Class is callable (call of instanciated class with parameter auto-invokes forward propagation) and its forward propagation is simply one of its layers being called after another."
   ]
  },
  {
   "cell_type": "code",
   "execution_count": null,
   "metadata": {},
   "outputs": [],
   "source": []
  }
 ],
 "metadata": {
  "kernelspec": {
   "display_name": "Python 3",
   "language": "python",
   "name": "python3"
  },
  "language_info": {
   "codemirror_mode": {
    "name": "ipython",
    "version": 3
   },
   "file_extension": ".py",
   "mimetype": "text/x-python",
   "name": "python",
   "nbconvert_exporter": "python",
   "pygments_lexer": "ipython3",
   "version": "3.8.4rc1"
  }
 },
 "nbformat": 4,
 "nbformat_minor": 4
}
